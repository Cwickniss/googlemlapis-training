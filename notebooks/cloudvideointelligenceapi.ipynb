{
 "cells": [
  {
   "cell_type": "markdown",
   "metadata": {
    "deletable": true,
    "editable": true
   },
   "source": [
    "# Google Cloud Video Intelligence API Samples\n",
    "This is an example notebook to see the Cloud Video Intelligence API in action via the Python Client Library"
   ]
  },
  {
   "cell_type": "markdown",
   "metadata": {
    "deletable": true,
    "editable": true
   },
   "source": [
    "### Shot Change Detection"
   ]
  },
  {
   "cell_type": "markdown",
   "metadata": {
    "deletable": true,
    "editable": true
   },
   "source": [
    "Here is the video that we are going to analyze and ask the Video Intelligence API to analyze and identify the shot changes."
   ]
  },
  {
   "cell_type": "code",
   "execution_count": 1,
   "metadata": {
    "collapsed": false,
    "deletable": true,
    "editable": true
   },
   "outputs": [
    {
     "data": {
      "text/html": [
       "<iframe width=\"560\" height=\"315\" src=\"https://storage.googleapis.com/training-video-files/sushi.mp4\" frameborder=\"0\" allowfullscreen></iframe>"
      ],
      "text/plain": [
       "<IPython.core.display.HTML object>"
      ]
     },
     "execution_count": 1,
     "metadata": {},
     "output_type": "execute_result"
    }
   ],
   "source": [
    "from IPython.display import HTML\n",
    "\n",
    "HTML('<iframe width=\"560\" height=\"315\" src=\"https://storage.googleapis.com/training-video-files/sushi.mp4\" frameborder=\"0\" allowfullscreen></iframe>')"
   ]
  },
  {
   "cell_type": "code",
   "execution_count": 1,
   "metadata": {
    "collapsed": false,
    "deletable": true,
    "editable": true
   },
   "outputs": [
    {
     "name": "stdout",
     "output_type": "stream",
     "text": [
      "\n",
      "Processing video for shot change annotations:\n",
      "\n",
      "Finished processing.\n",
      "\tShot 0: 0.0 to 0.166666\n",
      "\tShot 1: 0.2 to 1.433333\n",
      "\tShot 2: 1.466666 to 2.2\n",
      "\tShot 3: 2.233333 to 3.166666\n",
      "\tShot 4: 3.2 to 4.7\n",
      "\tShot 5: 4.733333 to 5.133333\n",
      "\tShot 6: 5.166666 to 5.766666\n",
      "\tShot 7: 5.8 to 9.333333\n",
      "\tShot 8: 9.366666 to 10.133333\n",
      "\tShot 9: 10.166666 to 10.6\n"
     ]
    }
   ],
   "source": [
    "from google.cloud import videointelligence\n",
    "video_client = videointelligence.VideoIntelligenceServiceClient()\n",
    "features = [videointelligence.enums.Feature.SHOT_CHANGE_DETECTION]\n",
    "operation = video_client.annotate_video(\"gs://training-video-files/sushi.mp4\", features=features)\n",
    "print('\\nProcessing video for shot change annotations:')\n",
    "\n",
    "result = operation.result(timeout=90)\n",
    "print('\\nFinished processing.')\n",
    "\n",
    "# first result is retrieved because a single video was processed\n",
    "for i, shot in enumerate(result.annotation_results[0].shot_annotations):\n",
    "    start_time = (shot.start_time_offset.seconds +shot.start_time_offset.nanos / 1e9)\n",
    "    end_time = (shot.end_time_offset.seconds +shot.end_time_offset.nanos / 1e9)\n",
    "    print('\\tShot {}: {} to {}'.format(i, start_time, end_time))"
   ]
  },
  {
   "cell_type": "code",
   "execution_count": 2,
   "metadata": {
    "collapsed": false,
    "deletable": true,
    "editable": true
   },
   "outputs": [
    {
     "name": "stdout",
     "output_type": "stream",
     "text": [
      "\n",
      "Processing video for label shots annotations:\n",
      "\n",
      "Finished processing.\n"
     ]
    }
   ],
   "source": [
    "video_client = videointelligence.VideoIntelligenceServiceClient()\n",
    "features = [videointelligence.enums.Feature.LABEL_DETECTION]\n",
    "mode = videointelligence.enums.LabelDetectionMode.SHOT_AND_FRAME_MODE\n",
    "config = videointelligence.types.LabelDetectionConfig(label_detection_mode=mode)\n",
    "context = videointelligence.types.VideoContext(label_detection_config=config)\n",
    "operation = video_client.annotate_video(\"gs://training-video-files/sushi.mp4\", features=features,video_context=context)\n",
    "\n",
    "print('\\nProcessing video for label shots annotations:')\n",
    "\n",
    "# [START check_operation]\n",
    "result = operation.result(timeout=90)\n",
    "print('\\nFinished processing.')"
   ]
  },
  {
   "cell_type": "code",
   "execution_count": 3,
   "metadata": {
    "collapsed": false,
    "deletable": true,
    "editable": true
   },
   "outputs": [
    {
     "name": "stdout",
     "output_type": "stream",
     "text": [
      "Shot label description: japanese cuisine\n",
      "\tLabel category description: food\n",
      "\tSegment 0: 0.2s to 1.433333s\n",
      "\tConfidence: 0.916431128979\n",
      "\tSegment 1: 1.466666s to 2.2s\n",
      "\tConfidence: 0.481507658958\n",
      "\tSegment 2: 3.2s to 4.7s\n",
      "\tConfidence: 0.908114552498\n",
      "\n",
      "\n",
      "Shot label description: food\n",
      "\tSegment 0: 0.2s to 1.433333s\n",
      "\tConfidence: 0.938308179379\n",
      "\tSegment 1: 1.466666s to 2.2s\n",
      "\tConfidence: 0.941668093204\n",
      "\tSegment 2: 2.233333s to 3.166666s\n",
      "\tConfidence: 0.966448247433\n",
      "\tSegment 3: 3.2s to 4.7s\n",
      "\tConfidence: 0.927455127239\n",
      "\tSegment 4: 4.733333s to 5.133333s\n",
      "\tConfidence: 0.981300592422\n",
      "\tSegment 5: 5.8s to 9.333333s\n",
      "\tConfidence: 0.94244146347\n",
      "\tSegment 6: 9.366666s to 10.133333s\n",
      "\tConfidence: 0.93721985817\n",
      "\n",
      "\n",
      "Shot label description: salmon\n",
      "\tLabel category description: fish\n",
      "\tSegment 0: 3.2s to 4.7s\n",
      "\tConfidence: 0.546152710915\n",
      "\n",
      "\n",
      "Shot label description: dish\n",
      "\tLabel category description: food\n",
      "\tSegment 0: 0.2s to 1.433333s\n",
      "\tConfidence: 0.860199570656\n",
      "\tSegment 1: 1.466666s to 2.2s\n",
      "\tConfidence: 0.865180909634\n",
      "\tSegment 2: 2.233333s to 3.166666s\n",
      "\tConfidence: 0.86160671711\n",
      "\tSegment 3: 3.2s to 4.7s\n",
      "\tConfidence: 0.803701877594\n",
      "\tSegment 4: 4.733333s to 5.133333s\n",
      "\tConfidence: 0.912635505199\n",
      "\tSegment 5: 5.8s to 9.333333s\n",
      "\tConfidence: 0.857223749161\n",
      "\tSegment 6: 9.366666s to 10.133333s\n",
      "\tConfidence: 0.913670063019\n",
      "\n",
      "\n",
      "Shot label description: hors d oeuvre\n",
      "\tLabel category description: dish\n",
      "\tSegment 0: 0.2s to 1.433333s\n",
      "\tConfidence: 0.422222226858\n",
      "\tSegment 1: 1.466666s to 2.2s\n",
      "\tConfidence: 0.480004519224\n",
      "\n",
      "\n",
      "Shot label description: cooking\n",
      "\tLabel category description: service\n",
      "\tSegment 0: 0.2s to 1.433333s\n",
      "\tConfidence: 0.499578118324\n",
      "\tSegment 1: 1.466666s to 2.2s\n",
      "\tConfidence: 0.586045503616\n",
      "\tSegment 2: 2.233333s to 3.166666s\n",
      "\tConfidence: 0.621057033539\n",
      "\tSegment 3: 3.2s to 4.7s\n",
      "\tConfidence: 0.436835855246\n",
      "\tSegment 4: 4.733333s to 5.133333s\n",
      "\tConfidence: 0.768233656883\n",
      "\tSegment 5: 5.8s to 9.333333s\n",
      "\tConfidence: 0.476303905249\n",
      "\n",
      "\n",
      "Shot label description: rice\n",
      "\tLabel category description: food\n",
      "\tSegment 0: 4.733333s to 5.133333s\n",
      "\tConfidence: 0.630202293396\n",
      "\n",
      "\n",
      "Shot label description: meal\n",
      "\tSegment 0: 4.733333s to 5.133333s\n",
      "\tConfidence: 0.671681284904\n",
      "\tSegment 1: 9.366666s to 10.133333s\n",
      "\tConfidence: 0.701573491096\n",
      "\n",
      "\n",
      "Shot label description: pad thai\n",
      "\tLabel category description: seafood\n",
      "\tSegment 0: 4.733333s to 5.133333s\n",
      "\tConfidence: 0.709800779819\n",
      "\n",
      "\n",
      "Shot label description: thai food\n",
      "\tLabel category description: food\n",
      "\tSegment 0: 4.733333s to 5.133333s\n",
      "\tConfidence: 0.755555570126\n",
      "\n",
      "\n",
      "Shot label description: asian food\n",
      "\tLabel category description: food\n",
      "\tSegment 0: 0.2s to 1.433333s\n",
      "\tConfidence: 1.0\n",
      "\tSegment 1: 1.466666s to 2.2s\n",
      "\tConfidence: 0.45281457901\n",
      "\tSegment 2: 3.2s to 4.7s\n",
      "\tConfidence: 0.933650434017\n",
      "\tSegment 3: 4.733333s to 5.133333s\n",
      "\tConfidence: 0.487699538469\n",
      "\n",
      "\n",
      "Shot label description: sushi\n",
      "\tLabel category description: food\n",
      "\tSegment 0: 0.2s to 1.433333s\n",
      "\tConfidence: 0.984978914261\n",
      "\tSegment 1: 1.466666s to 2.2s\n",
      "\tConfidence: 0.958081781864\n",
      "\tSegment 2: 3.2s to 4.7s\n",
      "\tConfidence: 0.997489333153\n",
      "\n",
      "\n",
      "Shot label description: cuisine\n",
      "\tLabel category description: food\n",
      "\tSegment 0: 0.2s to 1.433333s\n",
      "\tConfidence: 0.904028892517\n",
      "\tSegment 1: 1.466666s to 2.2s\n",
      "\tConfidence: 0.864382982254\n",
      "\tSegment 2: 2.233333s to 3.166666s\n",
      "\tConfidence: 0.794119656086\n",
      "\tSegment 3: 3.2s to 4.7s\n",
      "\tConfidence: 0.797092616558\n",
      "\tSegment 4: 4.733333s to 5.133333s\n",
      "\tConfidence: 0.933401346207\n",
      "\tSegment 5: 5.8s to 9.333333s\n",
      "\tConfidence: 0.837102651596\n",
      "\tSegment 6: 9.366666s to 10.133333s\n",
      "\tConfidence: 0.872143864632\n",
      "\n",
      "\n",
      "Shot label description: vegetable\n",
      "\tLabel category description: food\n",
      "\tSegment 0: 2.233333s to 3.166666s\n",
      "\tConfidence: 0.700160443783\n",
      "\n",
      "\n"
     ]
    }
   ],
   "source": [
    "# SHOT LABELS\n",
    "\n",
    "shot_labels = result.annotation_results[0].shot_label_annotations\n",
    "for i, shot_label in enumerate(shot_labels):\n",
    "    print('Shot label description: {}'.format(shot_label.entity.description))\n",
    "    for category_entity in shot_label.category_entities:\n",
    "        print('\\tLabel category description: {}'.format(category_entity.description))\n",
    "\n",
    "    for i, shot in enumerate(shot_label.segments):\n",
    "        start_time = (shot.segment.start_time_offset.seconds +  shot.segment.start_time_offset.nanos / 1e9)\n",
    "        end_time = (shot.segment.end_time_offset.seconds + shot.segment.end_time_offset.nanos / 1e9)\n",
    "        positions = '{}s to {}s'.format(start_time, end_time)\n",
    "        confidence = shot.confidence\n",
    "        print('\\tSegment {}: {}'.format(i, positions))\n",
    "        print('\\tConfidence: {}'.format(confidence))\n",
    "    print('\\n')"
   ]
  },
  {
   "cell_type": "code",
   "execution_count": null,
   "metadata": {
    "collapsed": true,
    "deletable": true,
    "editable": true
   },
   "outputs": [],
   "source": []
  }
 ],
 "metadata": {
  "kernelspec": {
   "display_name": "Python 2",
   "language": "python",
   "name": "python2"
  },
  "language_info": {
   "codemirror_mode": {
    "name": "ipython",
    "version": 2
   },
   "file_extension": ".py",
   "mimetype": "text/x-python",
   "name": "python",
   "nbconvert_exporter": "python",
   "pygments_lexer": "ipython2",
   "version": "2.7.15"
  }
 },
 "nbformat": 4,
 "nbformat_minor": 2
}
